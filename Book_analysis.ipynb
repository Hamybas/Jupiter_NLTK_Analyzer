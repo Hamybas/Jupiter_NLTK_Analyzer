{
 "cells": [
  {
   "cell_type": "markdown",
   "id": "650d71d6-58f7-401f-a8ea-7510fbebb0e5",
   "metadata": {},
   "source": [
    "# Load the book"
   ]
  },
  {
   "cell_type": "code",
   "execution_count": 5,
   "id": "0a58a4b9-cf60-415e-9a9c-fedd66164da1",
   "metadata": {},
   "outputs": [],
   "source": [
    "with open('miracle-in-the-andes.txt', 'r', encoding=\"utf8\") as file:\n",
    "    book = file.read()"
   ]
  },
  {
   "cell_type": "code",
   "execution_count": 7,
   "id": "97cf799e-afdd-4386-9901-79e1120bdbb8",
   "metadata": {},
   "outputs": [
    {
     "data": {
      "text/plain": [
       "str"
      ]
     },
     "execution_count": 7,
     "metadata": {},
     "output_type": "execute_result"
    }
   ],
   "source": [
    "type(book)"
   ]
  },
  {
   "cell_type": "markdown",
   "id": "3522a41d-2f4c-47d6-9a00-71b144a89a45",
   "metadata": {},
   "source": [
    "# How many chapters?"
   ]
  },
  {
   "cell_type": "markdown",
   "id": "2ea9905b-33d3-4d19-b49f-d3e16deec937",
   "metadata": {},
   "source": [
    "### With string method"
   ]
  },
  {
   "cell_type": "code",
   "execution_count": 12,
   "id": "fd43c7d4-9196-42a6-a9c2-f8bab3218899",
   "metadata": {},
   "outputs": [
    {
     "data": {
      "text/plain": [
       "10"
      ]
     },
     "execution_count": 12,
     "metadata": {},
     "output_type": "execute_result"
    }
   ],
   "source": [
    "book.count('Chapter ')"
   ]
  },
  {
   "cell_type": "markdown",
   "id": "3fade56c-f4e7-4420-b589-2f25b96d8624",
   "metadata": {},
   "source": [
    "### With regex"
   ]
  },
  {
   "cell_type": "code",
   "execution_count": 14,
   "id": "ce91cc02-ed4a-4745-8980-aa17310aaeb1",
   "metadata": {},
   "outputs": [],
   "source": [
    "import re"
   ]
  },
  {
   "cell_type": "code",
   "execution_count": 21,
   "id": "1832c577-b7fd-4ecd-a883-2c2ab3d31bde",
   "metadata": {},
   "outputs": [],
   "source": [
    "pattern = re.compile('Chapter [0-9]+')"
   ]
  },
  {
   "cell_type": "code",
   "execution_count": 23,
   "id": "afdba050-7bdf-421a-996e-b9636da282e9",
   "metadata": {},
   "outputs": [
    {
     "data": {
      "text/plain": [
       "10"
      ]
     },
     "execution_count": 23,
     "metadata": {},
     "output_type": "execute_result"
    }
   ],
   "source": [
    "len(re.findall(pattern, book))"
   ]
  },
  {
   "cell_type": "markdown",
   "id": "e2a346f6-b3b8-4ccd-9306-f16e26e9d73c",
   "metadata": {},
   "source": [
    "# With are the sentences where \"love\" was used?"
   ]
  },
  {
   "cell_type": "code",
   "execution_count": 56,
   "id": "caa3b79c-417e-4814-bed6-65341e27156e",
   "metadata": {},
   "outputs": [],
   "source": [
    "pattern = re.compile('[A-Z]{1}[^.]*[^a-zA-Z]+love[^a-zA-Z][^.]*.')"
   ]
  },
  {
   "cell_type": "code",
   "execution_count": 57,
   "id": "1fce1e8d-5448-45e5-a226-e71095d0cff8",
   "metadata": {},
   "outputs": [
    {
     "data": {
      "text/plain": [
       "67"
      ]
     },
     "execution_count": 57,
     "metadata": {},
     "output_type": "execute_result"
    }
   ],
   "source": [
    "len(re.findall(pattern, book))"
   ]
  },
  {
   "cell_type": "markdown",
   "id": "e93a307a-edf9-48e4-885b-a561635298a4",
   "metadata": {},
   "source": [
    "# What are most used words?"
   ]
  },
  {
   "cell_type": "code",
   "execution_count": 63,
   "id": "cbbde521-bd9c-400a-b17a-06129cc9fd17",
   "metadata": {},
   "outputs": [],
   "source": [
    "pattern = re.compile('[a-zA-Z]+')"
   ]
  },
  {
   "cell_type": "code",
   "execution_count": 66,
   "id": "c580b3e2-cab5-4e58-a50f-6374dddad726",
   "metadata": {},
   "outputs": [],
   "source": [
    "findings = re.findall(pattern, book.lower())"
   ]
  },
  {
   "cell_type": "code",
   "execution_count": 70,
   "id": "b0463721-6e22-44cd-a554-001b0a5e575e",
   "metadata": {},
   "outputs": [],
   "source": [
    "d= {}\n",
    "for word in findings:\n",
    "    if word in d.keys():\n",
    "        d[word] = d[word]+1\n",
    "    else:\n",
    "        d[word] = 1"
   ]
  },
  {
   "cell_type": "code",
   "execution_count": 72,
   "id": "10976046-0e44-437d-8fc7-36f2320dad63",
   "metadata": {},
   "outputs": [],
   "source": [
    "d_list = [(value, key) for (key,value) in d.items()]"
   ]
  },
  {
   "cell_type": "code",
   "execution_count": 75,
   "id": "1dedff30-0b4b-4339-b746-ed6b4a72d64e",
   "metadata": {},
   "outputs": [],
   "source": [
    "d_list = sorted(d_list, reverse=True)"
   ]
  },
  {
   "cell_type": "code",
   "execution_count": null,
   "id": "59777530-f4f9-4c56-b775-6fe5c7107455",
   "metadata": {},
   "outputs": [],
   "source": []
  }
 ],
 "metadata": {
  "kernelspec": {
   "display_name": "Python 3 (ipykernel)",
   "language": "python",
   "name": "python3"
  },
  "language_info": {
   "codemirror_mode": {
    "name": "ipython",
    "version": 3
   },
   "file_extension": ".py",
   "mimetype": "text/x-python",
   "name": "python",
   "nbconvert_exporter": "python",
   "pygments_lexer": "ipython3",
   "version": "3.11.6"
  }
 },
 "nbformat": 4,
 "nbformat_minor": 5
}
