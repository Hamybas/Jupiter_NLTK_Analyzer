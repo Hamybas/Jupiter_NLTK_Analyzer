{
 "cells": [
  {
   "cell_type": "markdown",
   "id": "3037d2ac-9b3b-46b5-b053-94ef6a1c469e",
   "metadata": {},
   "source": [
    "# Load the book"
   ]
  },
  {
   "cell_type": "code",
   "execution_count": 2,
   "id": "adccd7ed-841c-44c4-8bd1-9ceec7135163",
   "metadata": {},
   "outputs": [],
   "source": [
    "with open('miracle-in-the-andes.txt', 'r', encoding=\"utf8\") as file:\n",
    "    book = file.read()"
   ]
  },
  {
   "cell_type": "markdown",
   "id": "3d8261ff-bf66-417c-8415-1ca960a1ad73",
   "metadata": {},
   "source": [
    "# Extract the para_ where \"love\" was used"
   ]
  },
  {
   "cell_type": "code",
   "execution_count": 3,
   "id": "b6a0e174-5601-45f8-94e7-f13d0fbb8b3c",
   "metadata": {},
   "outputs": [],
   "source": [
    "import re"
   ]
  },
  {
   "cell_type": "code",
   "execution_count": 24,
   "id": "5baa1986-da92-486e-a0ac-5f36945d03a2",
   "metadata": {},
   "outputs": [],
   "source": [
    "pattern = re.compile('[^\\n]+love[^\\n]+')"
   ]
  },
  {
   "cell_type": "code",
   "execution_count": 26,
   "id": "392f16ad-cf47-4529-9247-23b2be276514",
   "metadata": {},
   "outputs": [],
   "source": [
    "findings = re.findall(pattern, book)"
   ]
  },
  {
   "cell_type": "markdown",
   "id": "ea705e91-e55a-4d4c-9ee0-9baf1af41b25",
   "metadata": {},
   "source": [
    "# Extract the chapter titles"
   ]
  },
  {
   "cell_type": "code",
   "execution_count": 216,
   "id": "b6635574-9c8d-4feb-a79d-d78f570678b4",
   "metadata": {},
   "outputs": [],
   "source": [
    "pattern = re.compile('[a-zA-Z ,]+\\n\\n')"
   ]
  },
  {
   "cell_type": "code",
   "execution_count": 218,
   "id": "b4c22f1a-5084-4e6d-a43e-9d7be22f8dd3",
   "metadata": {},
   "outputs": [],
   "source": [
    "findings = re.findall(pattern, book)"
   ]
  },
  {
   "cell_type": "code",
   "execution_count": 219,
   "id": "0b5516bf-0249-4a0f-9c24-987810d36a71",
   "metadata": {},
   "outputs": [],
   "source": [
    "findings = [item.strip('\\n\\n') for item in findings]"
   ]
  },
  {
   "cell_type": "code",
   "execution_count": 220,
   "id": "92763246-1988-43b4-8a7f-4ae05f7da7e1",
   "metadata": {},
   "outputs": [
    {
     "data": {
      "text/plain": [
       "['Before',\n",
       " 'Everything Precious',\n",
       " 'A Promise',\n",
       " 'Breathe Once More',\n",
       " 'Abandoned',\n",
       " 'Tomb',\n",
       " 'East',\n",
       " 'The Opposite of Death',\n",
       " 'I See a Man',\n",
       " 'After']"
      ]
     },
     "execution_count": 220,
     "metadata": {},
     "output_type": "execute_result"
    }
   ],
   "source": [
    "findings"
   ]
  },
  {
   "cell_type": "code",
   "execution_count": 221,
   "id": "5c3ed48c-b8c7-4ea0-90a1-40fea6d22db5",
   "metadata": {},
   "outputs": [],
   "source": [
    "pattern = re.compile('([a-zA-Z ,]+)\\n\\n')"
   ]
  },
  {
   "cell_type": "code",
   "execution_count": 222,
   "id": "e0968395-a34f-4417-b6a2-19cba0af4b47",
   "metadata": {},
   "outputs": [],
   "source": [
    "findings = re.findall(pattern, book)"
   ]
  },
  {
   "cell_type": "code",
   "execution_count": 223,
   "id": "84683b55-9d30-4fb9-abbe-a95cc2ea5d0c",
   "metadata": {},
   "outputs": [
    {
     "data": {
      "text/plain": [
       "['Before',\n",
       " 'Everything Precious',\n",
       " 'A Promise',\n",
       " 'Breathe Once More',\n",
       " 'Abandoned',\n",
       " 'Tomb',\n",
       " 'East',\n",
       " 'The Opposite of Death',\n",
       " 'I See a Man',\n",
       " 'After']"
      ]
     },
     "execution_count": 223,
     "metadata": {},
     "output_type": "execute_result"
    }
   ],
   "source": [
    "findings"
   ]
  },
  {
   "cell_type": "markdown",
   "id": "bd0948dd-7e43-4b39-b036-523a678f197c",
   "metadata": {},
   "source": [
    "# Function that finds the occurence of any word"
   ]
  },
  {
   "cell_type": "code",
   "execution_count": 279,
   "id": "ad9bc516-edda-45fd-b984-6daafb4efa73",
   "metadata": {},
   "outputs": [],
   "source": [
    "def find(word):\n",
    "    try:\n",
    "        pattern = re.compile('[a-zA-Z]+')\n",
    "        findings = re.findall(pattern, book.lower())\n",
    "        d= {}\n",
    "        for words in findings:\n",
    "            if words in d.keys():\n",
    "                d[words] = d[words]+1\n",
    "            else:\n",
    "                d[words] = 1\n",
    "        return d[word]\n",
    "    except KeyError:\n",
    "        print (f\"The book dose not containt the word '{word}'\")"
   ]
  },
  {
   "cell_type": "code",
   "execution_count": 270,
   "id": "17eb22bf-f785-4a8f-ad31-fdde83be474a",
   "metadata": {},
   "outputs": [
    {
     "data": {
      "text/plain": [
       "83"
      ]
     },
     "execution_count": 270,
     "metadata": {},
     "output_type": "execute_result"
    }
   ],
   "source": [
    "find('love')"
   ]
  },
  {
   "cell_type": "code",
   "execution_count": 280,
   "id": "07cfca26-b3c2-4cc7-b1d3-bd33d6e6c857",
   "metadata": {},
   "outputs": [
    {
     "name": "stdout",
     "output_type": "stream",
     "text": [
      "The book dose not containt the word 'hate'\n"
     ]
    }
   ],
   "source": [
    "find('hate')"
   ]
  },
  {
   "cell_type": "code",
   "execution_count": null,
   "id": "04e3857e-c914-4434-b168-44559130fb45",
   "metadata": {},
   "outputs": [],
   "source": []
  }
 ],
 "metadata": {
  "kernelspec": {
   "display_name": "Python 3 (ipykernel)",
   "language": "python",
   "name": "python3"
  },
  "language_info": {
   "codemirror_mode": {
    "name": "ipython",
    "version": 3
   },
   "file_extension": ".py",
   "mimetype": "text/x-python",
   "name": "python",
   "nbconvert_exporter": "python",
   "pygments_lexer": "ipython3",
   "version": "3.11.6"
  }
 },
 "nbformat": 4,
 "nbformat_minor": 5
}
