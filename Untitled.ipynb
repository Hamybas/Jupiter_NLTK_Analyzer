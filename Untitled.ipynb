{
 "cells": [
  {
   "cell_type": "markdown",
   "id": "483dbf43-ca67-4ccd-9313-b8f52f02941e",
   "metadata": {},
   "source": [
    "# Loading the book"
   ]
  },
  {
   "cell_type": "code",
   "execution_count": 1,
   "id": "7d9d736d-f457-428f-b39e-5d929f4c6c4a",
   "metadata": {},
   "outputs": [],
   "source": [
    "with open('miracle-in-the-andes.txt', 'r', encoding=\"utf8\") as file:\n",
    "    book = file.read()"
   ]
  },
  {
   "cell_type": "markdown",
   "id": "936f3789-4402-4438-9985-e24e0e418a83",
   "metadata": {},
   "source": [
    "# Most used word (non-articles)"
   ]
  },
  {
   "cell_type": "code",
   "execution_count": 4,
   "id": "e0bd18ce-c55d-47ed-9638-54ca1b2891fb",
   "metadata": {},
   "outputs": [],
   "source": [
    "import re\n",
    "pattern = re.compile('[a-zA-Z]+')"
   ]
  },
  {
   "cell_type": "code",
   "execution_count": 5,
   "id": "8c1903d7-11c6-41f2-8390-206b27bf9220",
   "metadata": {},
   "outputs": [],
   "source": [
    "findings = re.findall(pattern, book.lower())"
   ]
  },
  {
   "cell_type": "code",
   "execution_count": 6,
   "id": "9a46d3a5-c44d-4a47-8caa-c74e637cd329",
   "metadata": {},
   "outputs": [],
   "source": [
    "d= {}\n",
    "for word in findings:\n",
    "    if word in d.keys():\n",
    "        d[word] = d[word]+1\n",
    "    else:\n",
    "        d[word] = 1\n",
    "d_list = [(value, key) for (key,value) in d.items()]\n",
    "d_list = sorted(d_list, reverse=True)"
   ]
  },
  {
   "cell_type": "code",
   "execution_count": 18,
   "id": "a8de86ca-6534-4d36-b923-14c2a99a50c2",
   "metadata": {},
   "outputs": [
    {
     "data": {
      "text/plain": [
       "'3.11.6'"
      ]
     },
     "execution_count": 18,
     "metadata": {},
     "output_type": "execute_result"
    }
   ],
   "source": [
    "from platform import python_version\n",
    "python_version()"
   ]
  },
  {
   "cell_type": "code",
   "execution_count": 27,
   "id": "24e35d05-f0aa-465d-baeb-6c8604ed8afa",
   "metadata": {},
   "outputs": [],
   "source": [
    "import nltk\n",
    "from nltk.corpus import stopwords\n",
    "\n",
    "english_stopwords = stopwords.words(\"english\")"
   ]
  },
  {
   "cell_type": "code",
   "execution_count": 29,
   "id": "63541424-3db6-4a5a-b17e-5372dc84261b",
   "metadata": {},
   "outputs": [],
   "source": [
    "filt_words = []\n",
    "for count, word in d_list:\n",
    "    if word not in english_stopwords:\n",
    "        filt_words.append((word, count))"
   ]
  },
  {
   "cell_type": "code",
   "execution_count": 31,
   "id": "04686b8a-a75b-4f82-a9ca-7c6709250a77",
   "metadata": {
    "scrolled": true
   },
   "outputs": [
    {
     "data": {
      "text/plain": [
       "[('would', 575),\n",
       " ('us', 519),\n",
       " ('said', 292),\n",
       " ('roberto', 284),\n",
       " ('could', 252),\n",
       " ('one', 249),\n",
       " ('snow', 227),\n",
       " ('mountain', 183),\n",
       " ('time', 182),\n",
       " ('like', 165)]"
      ]
     },
     "execution_count": 31,
     "metadata": {},
     "output_type": "execute_result"
    }
   ],
   "source": [
    "filt_words[0:10]"
   ]
  },
  {
   "cell_type": "markdown",
   "id": "45301ce7-b249-4e34-bdfc-d9575da055a9",
   "metadata": {},
   "source": [
    "# Sentiment Analysis : Most positive and negative chapter?"
   ]
  },
  {
   "cell_type": "markdown",
   "id": "71ef97ba-4afe-41b1-bab2-5cdf0e0ab2b3",
   "metadata": {},
   "source": [
    "### Example"
   ]
  },
  {
   "cell_type": "code",
   "execution_count": 32,
   "id": "62bc4049-e60d-432a-a075-a0f0a6a09267",
   "metadata": {},
   "outputs": [],
   "source": [
    "from nltk.sentiment import SentimentIntensityAnalyzer"
   ]
  },
  {
   "cell_type": "code",
   "execution_count": 33,
   "id": "bdaad3ee-e8d3-4041-95e2-84ad2882b118",
   "metadata": {},
   "outputs": [],
   "source": [
    "analyzer = SentimentIntensityAnalyzer()"
   ]
  },
  {
   "cell_type": "code",
   "execution_count": 39,
   "id": "c2cfa3c2-e366-4985-aed4-20e4862d63f5",
   "metadata": {},
   "outputs": [
    {
     "data": {
      "text/plain": [
       "{'neg': 0.116, 'neu': 0.76, 'pos': 0.125, 'compound': 1.0}"
      ]
     },
     "execution_count": 39,
     "metadata": {},
     "output_type": "execute_result"
    }
   ],
   "source": [
    "analyzer.polarity_scores(book)"
   ]
  },
  {
   "cell_type": "markdown",
   "id": "2ef9e36c-62e2-4ced-b38f-f8788d8287f6",
   "metadata": {},
   "source": [
    "### Chapters analysis"
   ]
  },
  {
   "cell_type": "code",
   "execution_count": 50,
   "id": "67d2de3c-7cd8-4b3b-b701-0009ddc829af",
   "metadata": {},
   "outputs": [],
   "source": [
    "import re\n",
    "pattern = re.compile('Chapter [0-9]+')"
   ]
  },
  {
   "cell_type": "code",
   "execution_count": 51,
   "id": "492216cd-8320-4b9d-8339-d8571151e7e5",
   "metadata": {},
   "outputs": [
    {
     "data": {
      "text/plain": [
       "['Chapter 1',\n",
       " 'Chapter 2',\n",
       " 'Chapter 3',\n",
       " 'Chapter 4',\n",
       " 'Chapter 5',\n",
       " 'Chapter 6',\n",
       " 'Chapter 7',\n",
       " 'Chapter 8',\n",
       " 'Chapter 9',\n",
       " 'Chapter 10']"
      ]
     },
     "execution_count": 51,
     "metadata": {},
     "output_type": "execute_result"
    }
   ],
   "source": [
    "re.findall(pattern, book)"
   ]
  },
  {
   "cell_type": "code",
   "execution_count": 52,
   "id": "de8147cc-5022-4cb2-a56e-39fb3b2feada",
   "metadata": {},
   "outputs": [],
   "source": [
    "chapters = re.split(pattern, book)"
   ]
  },
  {
   "cell_type": "code",
   "execution_count": 55,
   "id": "0a0d69a6-2292-49db-a23f-d72ba6c7a137",
   "metadata": {},
   "outputs": [],
   "source": [
    "chapters = chapters[1:]"
   ]
  },
  {
   "cell_type": "code",
   "execution_count": 58,
   "id": "764eb936-6709-46a6-a638-99d6466c8c7e",
   "metadata": {},
   "outputs": [
    {
     "name": "stdout",
     "output_type": "stream",
     "text": [
      "{'neg': 0.061, 'neu': 0.779, 'pos': 0.16, 'compound': 1.0}\n",
      "{'neg': 0.12, 'neu': 0.726, 'pos': 0.154, 'compound': 0.9991}\n",
      "{'neg': 0.145, 'neu': 0.751, 'pos': 0.105, 'compound': -0.9999}\n",
      "{'neg': 0.141, 'neu': 0.721, 'pos': 0.138, 'compound': -0.9963}\n",
      "{'neg': 0.118, 'neu': 0.742, 'pos': 0.141, 'compound': 0.9997}\n",
      "{'neg': 0.124, 'neu': 0.761, 'pos': 0.115, 'compound': -0.9979}\n",
      "{'neg': 0.136, 'neu': 0.761, 'pos': 0.103, 'compound': -0.9999}\n",
      "{'neg': 0.12, 'neu': 0.786, 'pos': 0.094, 'compound': -0.9998}\n",
      "{'neg': 0.097, 'neu': 0.824, 'pos': 0.079, 'compound': -0.9996}\n",
      "{'neg': 0.086, 'neu': 0.733, 'pos': 0.181, 'compound': 1.0}\n"
     ]
    }
   ],
   "source": [
    "for chapter in chapters:\n",
    "    scores = analyzer.polarity_scores(chapter)\n",
    "    pr(scores) "
   ]
  },
  {
   "cell_type": "code",
   "execution_count": null,
   "id": "20bd1a9c-ce37-4324-8c32-d7082444da44",
   "metadata": {},
   "outputs": [],
   "source": []
  }
 ],
 "metadata": {
  "kernelspec": {
   "display_name": "Python 3 (ipykernel)",
   "language": "python",
   "name": "python3"
  },
  "language_info": {
   "codemirror_mode": {
    "name": "ipython",
    "version": 3
   },
   "file_extension": ".py",
   "mimetype": "text/x-python",
   "name": "python",
   "nbconvert_exporter": "python",
   "pygments_lexer": "ipython3",
   "version": "3.11.6"
  }
 },
 "nbformat": 4,
 "nbformat_minor": 5
}
